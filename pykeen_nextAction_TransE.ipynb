{
 "cells": [
  {
   "cell_type": "code",
   "execution_count": 1,
   "metadata": {},
   "outputs": [],
   "source": [
    "import os\n",
    "import sys\n",
    "\n",
    "import pandas as pd\n",
    "import numpy as np\n",
    "\n",
    "import networkx as nx\n",
    "\n",
    "from basicmemnet import memnet\n",
    "from basicmemnet import plot_graph\n",
    "\n",
    "from pykeen.triples import TriplesFactory\n",
    "from pykeen.pipeline import pipeline\n",
    "from pykeen.pipeline import plot_losses"
   ]
  },
  {
   "cell_type": "code",
   "execution_count": 3,
   "metadata": {},
   "outputs": [],
   "source": [
    "md_train = memnet.DSL()\n",
    "md_test = memnet.DSL()\n",
    "\n",
    "md_train.import_gml(\"train_graph.gml\")\n",
    "md_test.import_gml(\"test_graph.gml\")\n",
    "\n",
    "test = md_test.get_graph()\n",
    "train = md_train.get_graph()"
   ]
  },
  {
   "cell_type": "markdown",
   "metadata": {},
   "source": [
    "### Id - link - id"
   ]
  },
  {
   "cell_type": "code",
   "execution_count": null,
   "metadata": {},
   "outputs": [],
   "source": [
    "### Prepare data - put it into appropriate format for Pykeen\n",
    "def get_triplets(G):\n",
    "    triples = []\n",
    "    for u, v, data in G.edges(data=True):\n",
    "        relation = data.get('link_type')\n",
    "        triples.append([u, relation, v])\n",
    "    return np.array(triples)\n",
    "\n",
    "train_triplets = get_triplets(train)\n",
    "test_triplets = get_triplets(test)\n",
    "print('Number of train triplets: ', len(train_triplets))\n",
    "print('Number of test triplets: ',len(test_triplets))\n",
    "print(test_triplets[:3])\n",
    "\n",
    "train_triples_factory = TriplesFactory.from_labeled_triples(train_triplets)\n",
    "test_triples_factory = TriplesFactory.from_labeled_triples(test_triplets)\n",
    "\n",
    "# Model will be trained on the whole test set, but evaluation will be made only for 'has_element' link, \n",
    "# because we want to predictions for the parent actions.\n",
    "results = pipeline(\n",
    "    training=train_triples_factory,\n",
    "    testing=test_triples_factory,\n",
    "    model='TransE',\n",
    "    epochs=350,  \n",
    "    evaluation_relation_whitelist = {'has_next'}\n",
    ")\n",
    "results.save_to_directory('doctests/nextAction_transe_id_350epochs')"
   ]
  },
  {
   "cell_type": "code",
   "execution_count": null,
   "metadata": {},
   "outputs": [],
   "source": [
    "results.metric_results.to_dict()['tail']['realistic']"
   ]
  },
  {
   "cell_type": "markdown",
   "metadata": {},
   "source": [
    "### Word - link - word"
   ]
  },
  {
   "cell_type": "code",
   "execution_count": null,
   "metadata": {},
   "outputs": [],
   "source": [
    "def get_triplets(G):\n",
    "    triples = []\n",
    "    for u, v, data in G.edges(data=True):\n",
    "        relation = data.get('link_type')\n",
    "        head = G.nodes[u].get('utterances')[0]\n",
    "        tail = G.nodes[v].get('utterances')[0]\n",
    "        triples.append([head, relation, tail])\n",
    "    return np.array(triples)\n",
    "\n",
    "train_triplets = get_triplets(train)\n",
    "test_triplets = get_triplets(test)\n",
    "print('Number of train triplets: ', len(train_triplets))\n",
    "print('Number of test triplets: ',len(test_triplets))\n",
    "print(test_triplets[:3])\n",
    "\n",
    "train_triples_factory = TriplesFactory.from_labeled_triples(train_triplets)\n",
    "test_triples_factory = TriplesFactory.from_labeled_triples(test_triplets)\n",
    "\n",
    "# Model will be trained on the whole test set, but evaluation will be made only for 'has_element' link, \n",
    "# because we want to predictions for the parent actions.\n",
    "results_1 = pipeline(\n",
    "    training=train_triples_factory,\n",
    "    testing=test_triples_factory,\n",
    "    model='TransE',\n",
    "    epochs=350,  \n",
    "    evaluation_relation_whitelist = {'has_next'}\n",
    ")\n",
    "results_1.save_to_directory('doctests/nextAction_transe_word_350epochs')"
   ]
  },
  {
   "cell_type": "code",
   "execution_count": null,
   "metadata": {},
   "outputs": [],
   "source": [
    "results_1.metric_results.to_dict()['tail']['realistic']"
   ]
  },
  {
   "cell_type": "markdown",
   "metadata": {},
   "source": [
    "### 1"
   ]
  },
  {
   "cell_type": "code",
   "execution_count": null,
   "metadata": {},
   "outputs": [],
   "source": [
    "### Prepare data - put it into appropriate format for Pykeen\n",
    "def get_triplets(G):\n",
    "    triples = []\n",
    "    for u, v, data in G.edges(data=True):\n",
    "        relation = data.get('link_type')\n",
    "        triples.append([u, relation, v])\n",
    "    return np.array(triples)\n",
    "\n",
    "train_triplets = get_triplets(train)\n",
    "test_triplets = get_triplets(test)\n",
    "print('Number of train triplets: ', len(train_triplets))\n",
    "print('Number of test triplets: ',len(test_triplets))\n",
    "print(test_triplets[:3])\n",
    "\n",
    "train_triples_factory = TriplesFactory.from_labeled_triples(train_triplets)\n",
    "test_triples_factory = TriplesFactory.from_labeled_triples(test_triplets)\n",
    "\n",
    "# Model will be trained on the whole test set, but evaluation will be made only for 'has_element' link, \n",
    "# because we want to predictions for the parent actions.\n",
    "results = pipeline(\n",
    "    training=train_triples_factory,\n",
    "    testing=test_triples_factory,\n",
    "    model='RotatE',\n",
    "    epochs=350,  \n",
    "    evaluation_relation_whitelist = {'has_next'}\n",
    ")\n",
    "results.save_to_directory('doctests/nextAction_RotatE_id_350epochs')"
   ]
  },
  {
   "cell_type": "code",
   "execution_count": null,
   "metadata": {},
   "outputs": [],
   "source": [
    "results.metric_results.to_dict()['tail']['realistic']"
   ]
  },
  {
   "cell_type": "code",
   "execution_count": null,
   "metadata": {},
   "outputs": [],
   "source": [
    "def get_triplets(G):\n",
    "    triples = []\n",
    "    for u, v, data in G.edges(data=True):\n",
    "        relation = data.get('link_type')\n",
    "        head = G.nodes[u].get('utterances')[0]\n",
    "        tail = G.nodes[v].get('utterances')[0]\n",
    "        triples.append([head, relation, tail])\n",
    "    return np.array(triples)\n",
    "\n",
    "train_triplets = get_triplets(train)\n",
    "test_triplets = get_triplets(test)\n",
    "print('Number of train triplets: ', len(train_triplets))\n",
    "print('Number of test triplets: ',len(test_triplets))\n",
    "print(test_triplets[:3])\n",
    "\n",
    "train_triples_factory = TriplesFactory.from_labeled_triples(train_triplets)\n",
    "test_triples_factory = TriplesFactory.from_labeled_triples(test_triplets)\n",
    "\n",
    "# Model will be trained on the whole test set, but evaluation will be made only for 'has_element' link, \n",
    "# because we want to predictions for the parent actions.\n",
    "results_1 = pipeline(\n",
    "    training=train_triples_factory,\n",
    "    testing=test_triples_factory,\n",
    "    model='RotatE',\n",
    "    epochs=350,  \n",
    "    evaluation_relation_whitelist = {'has_next'}\n",
    ")\n",
    "results_1.save_to_directory('doctests/nextAction_RotatE_word_350epochs')"
   ]
  },
  {
   "cell_type": "code",
   "execution_count": null,
   "metadata": {},
   "outputs": [],
   "source": [
    "results.metric_results.to_dict()['tail']['realistic']"
   ]
  },
  {
   "cell_type": "code",
   "execution_count": null,
   "metadata": {},
   "outputs": [],
   "source": []
  },
  {
   "cell_type": "markdown",
   "metadata": {},
   "source": [
    "### 2"
   ]
  },
  {
   "cell_type": "code",
   "execution_count": null,
   "metadata": {},
   "outputs": [],
   "source": [
    "### Prepare data - put it into appropriate format for Pykeen\n",
    "def get_triplets(G):\n",
    "    triples = []\n",
    "    for u, v, data in G.edges(data=True):\n",
    "        relation = data.get('link_type')\n",
    "        triples.append([u, relation, v])\n",
    "    return np.array(triples)\n",
    "\n",
    "train_triplets = get_triplets(train)\n",
    "test_triplets = get_triplets(test)\n",
    "print('Number of train triplets: ', len(train_triplets))\n",
    "print('Number of test triplets: ',len(test_triplets))\n",
    "print(test_triplets[:3])\n",
    "\n",
    "train_triples_factory = TriplesFactory.from_labeled_triples(train_triplets)\n",
    "test_triples_factory = TriplesFactory.from_labeled_triples(test_triplets)\n",
    "\n",
    "# Model will be trained on the whole test set, but evaluation will be made only for 'has_element' link, \n",
    "# because we want to predictions for the parent actions.\n",
    "results = pipeline(\n",
    "    training=train_triples_factory,\n",
    "    testing=test_triples_factory,\n",
    "    model='TransR',\n",
    "    epochs=350,  \n",
    "    evaluation_relation_whitelist = {'has_next'}\n",
    ")\n",
    "results.save_to_directory('doctests/nextAction_TransR_id_350epochs')"
   ]
  },
  {
   "cell_type": "code",
   "execution_count": null,
   "metadata": {},
   "outputs": [],
   "source": [
    "results.metric_results.to_dict()['tail']['realistic']"
   ]
  },
  {
   "cell_type": "code",
   "execution_count": null,
   "metadata": {},
   "outputs": [],
   "source": [
    "def get_triplets(G):\n",
    "    triples = []\n",
    "    for u, v, data in G.edges(data=True):\n",
    "        relation = data.get('link_type')\n",
    "        head = G.nodes[u].get('utterances')[0]\n",
    "        tail = G.nodes[v].get('utterances')[0]\n",
    "        triples.append([head, relation, tail])\n",
    "    return np.array(triples)\n",
    "\n",
    "train_triplets = get_triplets(train)\n",
    "test_triplets = get_triplets(test)\n",
    "print('Number of train triplets: ', len(train_triplets))\n",
    "print('Number of test triplets: ',len(test_triplets))\n",
    "print(test_triplets[:3])\n",
    "\n",
    "train_triples_factory = TriplesFactory.from_labeled_triples(train_triplets)\n",
    "test_triples_factory = TriplesFactory.from_labeled_triples(test_triplets)\n",
    "\n",
    "# Model will be trained on the whole test set, but evaluation will be made only for 'has_element' link, \n",
    "# because we want to predictions for the parent actions.\n",
    "results_1 = pipeline(\n",
    "    training=train_triples_factory,\n",
    "    testing=test_triples_factory,\n",
    "    model='TransR',\n",
    "    epochs=350,  \n",
    "    evaluation_relation_whitelist = {'has_next'}\n",
    ")\n",
    "results_1.save_to_directory('doctests/nextAction_TransR_word_350epochs')"
   ]
  },
  {
   "cell_type": "code",
   "execution_count": null,
   "metadata": {},
   "outputs": [],
   "source": [
    "results.metric_results.to_dict()['tail']['realistic']"
   ]
  },
  {
   "cell_type": "code",
   "execution_count": null,
   "metadata": {},
   "outputs": [],
   "source": []
  },
  {
   "cell_type": "markdown",
   "metadata": {},
   "source": [
    "### 3"
   ]
  },
  {
   "cell_type": "code",
   "execution_count": null,
   "metadata": {},
   "outputs": [],
   "source": [
    "### Prepare data - put it into appropriate format for Pykeen\n",
    "def get_triplets(G):\n",
    "    triples = []\n",
    "    for u, v, data in G.edges(data=True):\n",
    "        relation = data.get('link_type')\n",
    "        triples.append([u, relation, v])\n",
    "    return np.array(triples)\n",
    "\n",
    "train_triplets = get_triplets(train)\n",
    "test_triplets = get_triplets(test)\n",
    "print('Number of train triplets: ', len(train_triplets))\n",
    "print('Number of test triplets: ',len(test_triplets))\n",
    "print(test_triplets[:3])\n",
    "\n",
    "train_triples_factory = TriplesFactory.from_labeled_triples(train_triplets)\n",
    "test_triples_factory = TriplesFactory.from_labeled_triples(test_triplets)\n",
    "\n",
    "# Model will be trained on the whole test set, but evaluation will be made only for 'has_element' link, \n",
    "# because we want to predictions for the parent actions.\n",
    "results = pipeline(\n",
    "    training=train_triples_factory,\n",
    "    testing=test_triples_factory,\n",
    "    model='RESCAL',\n",
    "    epochs=350,  \n",
    "    evaluation_relation_whitelist = {'has_next'}\n",
    ")\n",
    "results.save_to_directory('doctests/nextAction_RESCAL_id_350epochs')"
   ]
  },
  {
   "cell_type": "code",
   "execution_count": null,
   "metadata": {},
   "outputs": [],
   "source": [
    "results.metric_results.to_dict()['tail']['realistic']"
   ]
  },
  {
   "cell_type": "code",
   "execution_count": null,
   "metadata": {},
   "outputs": [],
   "source": []
  },
  {
   "cell_type": "code",
   "execution_count": null,
   "metadata": {},
   "outputs": [],
   "source": [
    "### Prepare data - put it into appropriate format for Pykeen\n",
    "def get_triplets(G):\n",
    "    triples = []\n",
    "    for u, v, data in G.edges(data=True):\n",
    "        relation = data.get('link_type')\n",
    "        triples.append([u, relation, v])\n",
    "        \n",
    "        head = G.nodes[u].get('utterances')[0]\n",
    "        tail = G.nodes[v].get('utterances')[0]\n",
    "        \n",
    "        triples.append([u, 'has_utterance', head])\n",
    "        triples.append([v, 'has_utterance', tail])\n",
    "    return np.array(triples)\n",
    "\n",
    "train_triplets = get_triplets(train)\n",
    "test_triplets = get_triplets(test)\n",
    "print('Number of train triplets: ', len(train_triplets))\n",
    "print('Number of test triplets: ',len(test_triplets))\n",
    "print(test_triplets[:3])\n",
    "\n",
    "train_triples_factory = TriplesFactory.from_labeled_triples(train_triplets)\n",
    "test_triples_factory = TriplesFactory.from_labeled_triples(test_triplets)\n",
    "\n",
    "# Model will be trained on the whole test set, but evaluation will be made only for 'has_element' link, \n",
    "# because we want to predictions for the parent actions.\n",
    "results = pipeline(\n",
    "    training=train_triples_factory,\n",
    "    testing=test_triples_factory,\n",
    "    model='RotatE',\n",
    "    epochs=350, \n",
    "    evaluation_relation_whitelist = {'has_next'} \n",
    ")\n",
    "results.save_to_directory('doctests/nextAction_RotatE_id_word_350epochs')"
   ]
  },
  {
   "cell_type": "code",
   "execution_count": null,
   "metadata": {},
   "outputs": [],
   "source": [
    "results.metric_results.to_dict()['tail']['realistic']"
   ]
  },
  {
   "cell_type": "code",
   "execution_count": null,
   "metadata": {},
   "outputs": [],
   "source": []
  }
 ],
 "metadata": {
  "kernelspec": {
   "display_name": "base",
   "language": "python",
   "name": "python3"
  },
  "language_info": {
   "codemirror_mode": {
    "name": "ipython",
    "version": 3
   },
   "file_extension": ".py",
   "mimetype": "text/x-python",
   "name": "python",
   "nbconvert_exporter": "python",
   "pygments_lexer": "ipython3",
   "version": "3.12.4"
  }
 },
 "nbformat": 4,
 "nbformat_minor": 2
}
